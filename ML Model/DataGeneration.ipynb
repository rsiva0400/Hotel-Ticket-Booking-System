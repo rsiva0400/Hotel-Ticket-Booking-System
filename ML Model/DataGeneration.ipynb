{
 "cells": [
  {
   "cell_type": "code",
   "execution_count": 1,
   "metadata": {},
   "outputs": [],
   "source": [
    "import numpy as np\n",
    "import pandas as pd\n",
    "import itertools"
   ]
  },
  {
   "cell_type": "code",
   "execution_count": 106,
   "metadata": {},
   "outputs": [],
   "source": [
    "def gener(options):\n",
    "    return np.random.choice(options, size=1000)"
   ]
  },
  {
   "cell_type": "code",
   "execution_count": 107,
   "metadata": {},
   "outputs": [],
   "source": [
    "data = pd.DataFrame(columns=['Genre','Alert','Notification','Immersiveness','Preference'])"
   ]
  },
  {
   "cell_type": "code",
   "execution_count": 108,
   "metadata": {},
   "outputs": [],
   "source": [
    "data['Genre'] = gener(['shooter','action','360 VR','sports','adventure','simulation',\n",
    "                       'art/creativity','productivity','relaxation/meditation','streaming','Travel'])"
   ]
  },
  {
   "cell_type": "code",
   "execution_count": 109,
   "metadata": {},
   "outputs": [],
   "source": [
    "data['Alert'] = gener(['Security','Health','Maintenance','Environment'])"
   ]
  },
  {
   "cell_type": "code",
   "execution_count": 110,
   "metadata": {},
   "outputs": [],
   "source": [
    "data['Notification'] = gener(['Scheduled','Unscheduled','Status Update'])"
   ]
  },
  {
   "cell_type": "code",
   "execution_count": 111,
   "metadata": {},
   "outputs": [],
   "source": [
    "data['Immersiveness'] = gener(['Browsing','DND','Highly','Moderate'])"
   ]
  },
  {
   "cell_type": "code",
   "execution_count": 112,
   "metadata": {},
   "outputs": [],
   "source": [
    "data['Preference'] = gener(['Increase player speed', 'Control Audio', \"Control opacity\", \"Control Object sizes\"])"
   ]
  },
  {
   "cell_type": "code",
   "execution_count": 113,
   "metadata": {},
   "outputs": [],
   "source": [
    "data.to_csv(\"User data.csv\",index=False)"
   ]
  },
  {
   "cell_type": "code",
   "execution_count": 114,
   "metadata": {},
   "outputs": [
    {
     "data": {
      "text/html": [
       "<div>\n",
       "<style scoped>\n",
       "    .dataframe tbody tr th:only-of-type {\n",
       "        vertical-align: middle;\n",
       "    }\n",
       "\n",
       "    .dataframe tbody tr th {\n",
       "        vertical-align: top;\n",
       "    }\n",
       "\n",
       "    .dataframe thead th {\n",
       "        text-align: right;\n",
       "    }\n",
       "</style>\n",
       "<table border=\"1\" class=\"dataframe\">\n",
       "  <thead>\n",
       "    <tr style=\"text-align: right;\">\n",
       "      <th></th>\n",
       "      <th>Genre</th>\n",
       "      <th>Alert</th>\n",
       "      <th>Notification</th>\n",
       "      <th>Immersiveness</th>\n",
       "      <th>Preference</th>\n",
       "    </tr>\n",
       "  </thead>\n",
       "  <tbody>\n",
       "    <tr>\n",
       "      <th>0</th>\n",
       "      <td>360 VR</td>\n",
       "      <td>Security</td>\n",
       "      <td>Status Update</td>\n",
       "      <td>Moderate</td>\n",
       "      <td>Control opacity</td>\n",
       "    </tr>\n",
       "    <tr>\n",
       "      <th>1</th>\n",
       "      <td>productivity</td>\n",
       "      <td>Security</td>\n",
       "      <td>Status Update</td>\n",
       "      <td>Moderate</td>\n",
       "      <td>Increase player speed</td>\n",
       "    </tr>\n",
       "    <tr>\n",
       "      <th>2</th>\n",
       "      <td>360 VR</td>\n",
       "      <td>Environment</td>\n",
       "      <td>Scheduled</td>\n",
       "      <td>Moderate</td>\n",
       "      <td>Control Audio</td>\n",
       "    </tr>\n",
       "    <tr>\n",
       "      <th>3</th>\n",
       "      <td>streaming</td>\n",
       "      <td>Health</td>\n",
       "      <td>Unscheduled</td>\n",
       "      <td>Highly</td>\n",
       "      <td>Control opacity</td>\n",
       "    </tr>\n",
       "    <tr>\n",
       "      <th>4</th>\n",
       "      <td>Travel</td>\n",
       "      <td>Health</td>\n",
       "      <td>Scheduled</td>\n",
       "      <td>DND</td>\n",
       "      <td>Control Object sizes</td>\n",
       "    </tr>\n",
       "    <tr>\n",
       "      <th>...</th>\n",
       "      <td>...</td>\n",
       "      <td>...</td>\n",
       "      <td>...</td>\n",
       "      <td>...</td>\n",
       "      <td>...</td>\n",
       "    </tr>\n",
       "    <tr>\n",
       "      <th>995</th>\n",
       "      <td>relaxation/meditation</td>\n",
       "      <td>Maintenance</td>\n",
       "      <td>Scheduled</td>\n",
       "      <td>DND</td>\n",
       "      <td>Control Object sizes</td>\n",
       "    </tr>\n",
       "    <tr>\n",
       "      <th>996</th>\n",
       "      <td>art/creativity</td>\n",
       "      <td>Health</td>\n",
       "      <td>Scheduled</td>\n",
       "      <td>Moderate</td>\n",
       "      <td>Control opacity</td>\n",
       "    </tr>\n",
       "    <tr>\n",
       "      <th>997</th>\n",
       "      <td>shooter</td>\n",
       "      <td>Health</td>\n",
       "      <td>Status Update</td>\n",
       "      <td>DND</td>\n",
       "      <td>Increase player speed</td>\n",
       "    </tr>\n",
       "    <tr>\n",
       "      <th>998</th>\n",
       "      <td>sports</td>\n",
       "      <td>Environment</td>\n",
       "      <td>Scheduled</td>\n",
       "      <td>DND</td>\n",
       "      <td>Control Audio</td>\n",
       "    </tr>\n",
       "    <tr>\n",
       "      <th>999</th>\n",
       "      <td>Travel</td>\n",
       "      <td>Health</td>\n",
       "      <td>Unscheduled</td>\n",
       "      <td>Highly</td>\n",
       "      <td>Increase player speed</td>\n",
       "    </tr>\n",
       "  </tbody>\n",
       "</table>\n",
       "<p>1000 rows × 5 columns</p>\n",
       "</div>"
      ],
      "text/plain": [
       "                     Genre        Alert   Notification Immersiveness  \\\n",
       "0                   360 VR     Security  Status Update      Moderate   \n",
       "1             productivity     Security  Status Update      Moderate   \n",
       "2                   360 VR  Environment      Scheduled      Moderate   \n",
       "3                streaming       Health    Unscheduled        Highly   \n",
       "4                   Travel       Health      Scheduled           DND   \n",
       "..                     ...          ...            ...           ...   \n",
       "995  relaxation/meditation  Maintenance      Scheduled           DND   \n",
       "996         art/creativity       Health      Scheduled      Moderate   \n",
       "997                shooter       Health  Status Update           DND   \n",
       "998                 sports  Environment      Scheduled           DND   \n",
       "999                 Travel       Health    Unscheduled        Highly   \n",
       "\n",
       "                Preference  \n",
       "0          Control opacity  \n",
       "1    Increase player speed  \n",
       "2            Control Audio  \n",
       "3          Control opacity  \n",
       "4     Control Object sizes  \n",
       "..                     ...  \n",
       "995   Control Object sizes  \n",
       "996        Control opacity  \n",
       "997  Increase player speed  \n",
       "998          Control Audio  \n",
       "999  Increase player speed  \n",
       "\n",
       "[1000 rows x 5 columns]"
      ]
     },
     "execution_count": 114,
     "metadata": {},
     "output_type": "execute_result"
    }
   ],
   "source": [
    "data"
   ]
  },
  {
   "attachments": {},
   "cell_type": "markdown",
   "metadata": {},
   "source": [
    "Label Encoding and Train - Test Data splitting"
   ]
  },
  {
   "cell_type": "code",
   "execution_count": 115,
   "metadata": {},
   "outputs": [],
   "source": [
    "from sklearn.preprocessing import LabelEncoder\n",
    "UserData = pd.read_csv(\"User data.csv\")\n",
    "UserData = UserData.apply(LabelEncoder().fit_transform)\n",
    "x,y = UserData.drop(['Preference'], axis = 1), UserData[\"Preference\"]"
   ]
  },
  {
   "cell_type": "code",
   "execution_count": 116,
   "metadata": {},
   "outputs": [],
   "source": [
    "from sklearn.model_selection import train_test_split\n",
    "X_train, X_test, y_train, y_test = train_test_split(x, y, test_size = 0.2)"
   ]
  },
  {
   "cell_type": "code",
   "execution_count": 117,
   "metadata": {},
   "outputs": [
    {
     "data": {
      "text/plain": [
       "(     Genre  Alert  Notification  Immersiveness\n",
       " 54       8      1             2              2\n",
       " 49       1      2             1              2\n",
       " 760     10      3             2              0\n",
       " 502      0      1             2              0\n",
       " 120      8      3             2              3\n",
       " ..     ...    ...           ...            ...\n",
       " 407      8      3             1              2\n",
       " 236      7      1             0              3\n",
       " 318      6      3             0              3\n",
       " 529      7      1             0              0\n",
       " 13       6      3             1              0\n",
       " \n",
       " [800 rows x 4 columns],\n",
       "      Genre  Alert  Notification  Immersiveness\n",
       " 454      6      1             2              3\n",
       " 901     10      2             0              3\n",
       " 852      9      2             1              1\n",
       " 532      8      1             0              1\n",
       " 438      1      1             1              2\n",
       " ..     ...    ...           ...            ...\n",
       " 117      6      2             0              0\n",
       " 537     10      1             2              1\n",
       " 36       0      0             1              0\n",
       " 1        5      3             1              3\n",
       " 128      8      2             0              3\n",
       " \n",
       " [200 rows x 4 columns])"
      ]
     },
     "execution_count": 117,
     "metadata": {},
     "output_type": "execute_result"
    }
   ],
   "source": [
    "X_train, X_test,"
   ]
  },
  {
   "attachments": {},
   "cell_type": "markdown",
   "metadata": {},
   "source": [
    "KNN Model"
   ]
  },
  {
   "cell_type": "code",
   "execution_count": 118,
   "metadata": {},
   "outputs": [
    {
     "name": "stderr",
     "output_type": "stream",
     "text": [
      "c:\\Users\\sivaram\\anaconda3\\lib\\site-packages\\sklearn\\neighbors\\_classification.py:228: FutureWarning: Unlike other reduction functions (e.g. `skew`, `kurtosis`), the default behavior of `mode` typically preserves the axis it acts along. In SciPy 1.11.0, this behavior will change: the default value of `keepdims` will become False, the `axis` over which the statistic is taken will be eliminated, and the value None will no longer be accepted. Set `keepdims` to True or False to avoid this warning.\n",
      "  mode, _ = stats.mode(_y[neigh_ind, k], axis=1)\n"
     ]
    },
    {
     "data": {
      "text/plain": [
       "0.235"
      ]
     },
     "execution_count": 118,
     "metadata": {},
     "output_type": "execute_result"
    }
   ],
   "source": [
    "from sklearn.neighbors import KNeighborsClassifier\n",
    "knn = KNeighborsClassifier(n_neighbors=50)\n",
    "  \n",
    "knn.fit(X_train, y_train)\n",
    "from sklearn.metrics import accuracy_score\n",
    "\n",
    "accuracy_score(y_test,knn.predict(X_test))"
   ]
  },
  {
   "attachments": {},
   "cell_type": "markdown",
   "metadata": {},
   "source": [
    "K Means Clustering"
   ]
  },
  {
   "cell_type": "code",
   "execution_count": 119,
   "metadata": {},
   "outputs": [
    {
     "data": {
      "text/plain": [
       "0.272"
      ]
     },
     "execution_count": 119,
     "metadata": {},
     "output_type": "execute_result"
    }
   ],
   "source": [
    "from sklearn.cluster import KMeans\n",
    "kmeans = KMeans(n_clusters=3, init='k-means++', random_state= 42)  \n",
    "y_predict= kmeans.fit_predict(UserData)\n",
    "\n",
    "\n",
    "accuracy_score(UserData['Preference'], y_predict)"
   ]
  },
  {
   "attachments": {},
   "cell_type": "markdown",
   "metadata": {},
   "source": [
    "Decision Tree"
   ]
  },
  {
   "cell_type": "code",
   "execution_count": 120,
   "metadata": {},
   "outputs": [
    {
     "data": {
      "text/plain": [
       "0.31"
      ]
     },
     "execution_count": 120,
     "metadata": {},
     "output_type": "execute_result"
    }
   ],
   "source": [
    "from sklearn.tree import DecisionTreeClassifier\n",
    "dt = DecisionTreeClassifier()\n",
    "dt.fit(X_train, y_train)\n",
    "\n",
    "dt.score(X_test,y_test)"
   ]
  },
  {
   "attachments": {},
   "cell_type": "markdown",
   "metadata": {},
   "source": [
    "Random Forest"
   ]
  },
  {
   "cell_type": "code",
   "execution_count": 121,
   "metadata": {},
   "outputs": [
    {
     "data": {
      "text/plain": [
       "0.295"
      ]
     },
     "execution_count": 121,
     "metadata": {},
     "output_type": "execute_result"
    }
   ],
   "source": [
    "from sklearn.ensemble import RandomForestClassifier\n",
    "\n",
    "rf = RandomForestClassifier()\n",
    "\n",
    "rf.fit(X_train,y_train)\n",
    "\n",
    "rf.score(X_test,y_test)"
   ]
  },
  {
   "attachments": {},
   "cell_type": "markdown",
   "metadata": {},
   "source": [
    "Supoort Vector Machine"
   ]
  },
  {
   "cell_type": "code",
   "execution_count": 122,
   "metadata": {},
   "outputs": [
    {
     "data": {
      "text/plain": [
       "0.28"
      ]
     },
     "execution_count": 122,
     "metadata": {},
     "output_type": "execute_result"
    }
   ],
   "source": [
    "from sklearn.svm import SVC\n",
    "\n",
    "svc = SVC()\n",
    "svc.fit(X_train, y_train)\n",
    "\n",
    "svc.score(X_test, y_test)"
   ]
  },
  {
   "cell_type": "code",
   "execution_count": null,
   "metadata": {},
   "outputs": [],
   "source": []
  },
  {
   "cell_type": "code",
   "execution_count": null,
   "metadata": {},
   "outputs": [],
   "source": []
  }
 ],
 "metadata": {
  "kernelspec": {
   "display_name": "Python 3 (ipykernel)",
   "language": "python",
   "name": "python3"
  },
  "language_info": {
   "codemirror_mode": {
    "name": "ipython",
    "version": 3
   },
   "file_extension": ".py",
   "mimetype": "text/x-python",
   "name": "python",
   "nbconvert_exporter": "python",
   "pygments_lexer": "ipython3",
   "version": "3.9.13"
  }
 },
 "nbformat": 4,
 "nbformat_minor": 2
}
